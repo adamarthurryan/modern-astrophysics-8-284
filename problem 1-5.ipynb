{
 "cells": [
  {
   "cell_type": "markdown",
   "id": "ab9e6856",
   "metadata": {},
   "source": [
    "# pset 1 q5\n",
    "\n",
    "Henge calculator"
   ]
  },
  {
   "cell_type": "code",
   "execution_count": 43,
   "id": "835d2abf",
   "metadata": {},
   "outputs": [
    {
     "name": "stdout",
     "output_type": "stream",
     "text": [
      "dec:  -17d51m33.77565537s\n",
      "ha:  4h31m13.7000945s\n"
     ]
    }
   ],
   "source": [
    "import astropy\n",
    "import numpy as np\n",
    "from numpy import sin, cos, arcsin, arccos\n",
    "from astropy.coordinates import SkyCoord, Angle\n",
    "from astropy.time import Time\n",
    "import astropy.units as u\n",
    "\n",
    "# the latitude and orientation of the henge\n",
    "# in degrees eastward from north\n",
    "lat=Angle(\"42d 22.8'\")\n",
    "orient=Angle(\"245.47d\")\n",
    "\n",
    "# declination is the angular distance from the NCP at sunset\n",
    "dec=Angle(\"90d\")-arccos(cos(lat)*cos(orient))\n",
    "\n",
    "# hour angle is angular distance of sun from meridian crossing to sunset point\n",
    "ha=Angle(arccos(cos(Angle(\"180d\")-lat-dec)*cos(orient)))  \n",
    "\n",
    "print(\"dec: \", dec.to_string(unit=u.deg))\n",
    "print(\"ha: \", ha.to_string(unit=u.hour))\n"
   ]
  },
  {
   "cell_type": "code",
   "execution_count": 31,
   "id": "0bcdc282",
   "metadata": {},
   "outputs": [
    {
     "name": "stdout",
     "output_type": "stream",
     "text": [
      "-53.643511738872455\n",
      "Henge sunset on day of:  2025-01-25 14:33:20.586\n"
     ]
    }
   ],
   "source": [
    "\n",
    "# find the day on which the sun has the given declination\n",
    "# assume the sun's declination varies sinusoidally through the year\n",
    "\n",
    "obliquity=Angle(\"22.4d\")\n",
    "\n",
    "# rescale declination \n",
    "dec1=(dec/obliquity).value\n",
    "day_rad = arcsin(dec1)\n",
    "day=day_rad*365.25/(2*np.pi)\n",
    "\n",
    "\n",
    "# vernal equinox 2025\n",
    "eq = Time('2025-03-20T06:00', scale='utc')\n",
    "eq.format = 'jd'\n",
    "eq+= day*u.day\n",
    "\n",
    "\n",
    "print(day)\n",
    "print(\"Henge sunset on day of: \", eq.iso)\n"
   ]
  },
  {
   "cell_type": "code",
   "execution_count": 47,
   "id": "aaee377d",
   "metadata": {},
   "outputs": [
    {
     "name": "stdout",
     "output_type": "stream",
     "text": [
      "Day 31 has declination -17d50m52.42151614s with difference 0d00m41.35413922s\n",
      "Day 314 has declination -17d50m52.42151614s with difference 0d00m41.35413922s\n"
     ]
    }
   ],
   "source": [
    "# attempt at a more accurate calculation, using a standard formula of declination of the sun\n",
    "\n",
    "def declination_of_sun(day):\n",
    "    return Angle(-23.45*u.deg)*cos(Angle(360/365*(day+10)*u.deg))\n",
    "\n",
    "days=range(1,365)\n",
    "dec_sun = [declination_of_sun(day) for day in days]\n",
    "differences = [dec_sun[day-1] - dec for day in days]\n",
    "triple = list(zip(days, dec_sun, differences))\n",
    "triple.sort(key=lambda x: abs(x[2].value))\n",
    "for i in range(0,2):\n",
    "    day, dec_actual, diff = triple[i]\n",
    "    print(f\"Day {day} has declination {dec_actual.to_string(unit=u.deg)} with difference {diff.to_string(unit=u.deg)}\")\n"
   ]
  },
  {
   "cell_type": "code",
   "execution_count": null,
   "id": "8254ed7c",
   "metadata": {},
   "outputs": [],
   "source": []
  }
 ],
 "metadata": {
  "kernelspec": {
   "display_name": "Python 3 (ipykernel)",
   "language": "python",
   "name": "python3"
  },
  "language_info": {
   "codemirror_mode": {
    "name": "ipython",
    "version": 3
   },
   "file_extension": ".py",
   "mimetype": "text/x-python",
   "name": "python",
   "nbconvert_exporter": "python",
   "pygments_lexer": "ipython3",
   "version": "3.13.5"
  }
 },
 "nbformat": 4,
 "nbformat_minor": 5
}
