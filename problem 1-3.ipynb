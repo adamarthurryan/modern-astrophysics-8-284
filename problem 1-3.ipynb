{
 "cells": [
  {
   "cell_type": "markdown",
   "id": "a1dee217-fed7-4927-bf0a-26a08c3c058e",
   "metadata": {},
   "source": [
    "# q3. \n",
    "convert between galactic lat, long and equatorial ra, dec (equinox 1950)\n"
   ]
  },
  {
   "cell_type": "code",
   "execution_count": 1,
   "id": "424410e4-2c0c-45a7-9fc7-3f202cbf3bdc",
   "metadata": {},
   "outputs": [],
   "source": [
    "import numpy as np\n",
    "from astropy import units as u\n",
    "from astropy.coordinates import Angle\n",
    "\n",
    "delta_ngp=Angle(\"27.13d\")\n",
    "alpha_ngp=Angle(\"12h51.4m\")\n",
    "l_ncp=Angle(\"122.93314d\")\n",
    "\n",
    "# expects astropy Angle objects\n",
    "def gal_to_eq(l,b):\n",
    "    delta = np.arcsin(np.sin(delta_ngp)*np.sin(b)+np.cos(delta_ngp)*np.cos(b)*np.cos(l_ncp-l))\n",
    "    x = (np.cos(b)*np.sin(l_ncp-l)/np.cos(delta)) \n",
    "    y = ((np.cos(delta_ngp)*np.sin(b)-np.sin(delta_ngp)*np.cos(b)*np.cos(l_ncp-l))/np.cos(delta))\n",
    "    alpha = np.arctan2(x,y)+alpha_ngp\n",
    "    alpha = alpha % (360*u.deg)\n",
    "\n",
    "    return [alpha.to(u.deg),delta.to(u.deg)]\n"
   ]
  },
  {
   "cell_type": "code",
   "execution_count": 2,
   "id": "421dfe1f-7d16-4ec9-8348-ea74c50eec7b",
   "metadata": {},
   "outputs": [
    {
     "name": "stdout",
     "output_type": "stream",
     "text": [
      "[<Angle 192.85 deg>, <Quantity 27.13 deg>]\n",
      "[<Longitude 192.85947789 deg>, <Latitude 27.12825241 deg>]\n",
      "[<Angle 12.85 deg>, <Quantity -27.13 deg>]\n",
      "[<Longitude 12.85947789 deg>, <Latitude -27.12825241 deg>]\n",
      "[<Angle 266.39386057 deg>, <Quantity -28.93671955 deg>]\n",
      "[<Longitude 266.40498829 deg>, <Latitude -28.93617776 deg>]\n",
      "[<Angle 86.39386057 deg>, <Quantity 28.93671955 deg>]\n",
      "[<Longitude 86.40498829 deg>, <Latitude 28.93617776 deg>]\n"
     ]
    }
   ],
   "source": [
    "# test this function using astropy's built-in coordinate functions\n",
    "from astropy.coordinates import SkyCoord  # High-level coordinates\n",
    "from astropy.coordinates import ICRS, Galactic, FK4, FK5  # Low-level frames\n",
    "from astropy.coordinates import Latitude, Longitude  # Angles\n",
    "\n",
    "def astropy_gal_to_eq(l,b):\n",
    "    c_gal = SkyCoord(frame=\"galactic\", l=l, b=b)\n",
    "    c_icrs = c_gal.icrs\n",
    "    return [c_icrs.ra, c_icrs.dec]\n",
    "\n",
    "\n",
    "#test\n",
    "\n",
    "test_values=[[0, 90],[0,-90], [0,0], [180,0]]\n",
    "for [l,b] in test_values:\n",
    "    l=Angle(l*u.deg)\n",
    "    b=Angle(b*u.deg)\n",
    "    print(gal_to_eq(l,b))\n",
    "    print(astropy_gal_to_eq(l,b))\n"
   ]
  },
  {
   "cell_type": "code",
   "execution_count": null,
   "id": "7ba3a6c4-7bcc-4407-aef4-b3528a215f48",
   "metadata": {},
   "outputs": [],
   "source": []
  }
 ],
 "metadata": {
  "kernelspec": {
   "display_name": "Python 3 (ipykernel)",
   "language": "python",
   "name": "python3"
  }
 },
 "nbformat": 4,
 "nbformat_minor": 5
}
