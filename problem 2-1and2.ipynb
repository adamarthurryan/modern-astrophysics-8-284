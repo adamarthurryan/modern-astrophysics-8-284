{
 "cells": [
  {
   "cell_type": "markdown",
   "id": "f74ae8c7",
   "metadata": {},
   "source": [
    "# Problem 2-1 and 2-2\n",
    "\n",
    "1. calculate fraction of total flux from a number of blackbodies which falls within idealized Johnson filter passbands\n",
    "2. calculate the B-V color indices of those blackbodies"
   ]
  },
  {
   "cell_type": "code",
   "execution_count": 16,
   "id": "4efcc1b6",
   "metadata": {},
   "outputs": [],
   "source": [
    "import astropy\n",
    "import numpy as np\n",
    "import astropy.units as u\n",
    "import astropy.constants as const\n",
    "from functools import partial\n",
    "\n",
    "temps = [10**5, 35000, 9700, 6500, 4700, 2600]*u.K\n",
    "\n",
    "B = (3900,4900)*u.Angstrom\n",
    "V = (5050, 5950)*u.Angstrom\n",
    "\n",
    "filters = [B,V]\n",
    "\n",
    "# stefan-Boltzmann formula for blackbody radiation\n",
    "def stefan_boltzmann_formula(T):\n",
    "    return const.sigma_sb * T**4\n",
    "\n",
    "# planks law for blackbody radiation\n",
    "def planks_law(T, lam):\n",
    "    return 2*const.h * const.c**2 / (lam**5 * (np.exp(const.h * const.c / (lam * const.k_B * T)) - 1))\n",
    "\n",
    "# integrate a function numerically, using Simpson's rule\n",
    "def simpsons_rule(f, a, b):\n",
    "    return (b - a) / 6 * (f(a) + 4 * f((a + b) / 2) + f(b))\n",
    "\n",
    "def filter_flux(filter, temp):\n",
    "    radiance = simpsons_rule(partial(planks_law, temp), filter[0], filter[1]).to(u.W/u.m**2)\n",
    "    return radiance * np.pi"
   ]
  },
  {
   "cell_type": "code",
   "execution_count": null,
   "id": "d75e89ae",
   "metadata": {},
   "outputs": [],
   "source": [
    "#problem 2-1\n",
    "\n",
    "for temp in temps:\n",
    "    flux_bol = stefan_boltzmann_formula(temp)\n",
    "\n",
    "    print(f\"Temperature: {temp:.0f}, Bolometric Flux: {flux_bol:.2e}\")\n",
    "\n",
    "    spectral_radiance_5050=planks_law(temp, 5050*u.Angstrom).to(u.W/u.m**2/u.m)#u.Angstrom)\n",
    "    print(f\"Spectral radiance at 5050 Angstrom: {spectral_radiance_5050:.2e}\")\n",
    "    \n",
    "    for filter in filters:\n",
    "        # this form of Planck's law returns units of radiance\n",
    "        # these must be integrated over all solid angles to get surface flux\n",
    "        \n",
    "        flux = filter_flux(filter, temp)\n",
    "        \n",
    "        percent = flux / flux_bol *100\n",
    "        print(f\"  Filter {filter}: {flux:.2e}, percent: {percent:.2f}%\")\n"
   ]
  },
  {
   "cell_type": "code",
   "execution_count": 19,
   "id": "bcd5bbd3",
   "metadata": {},
   "outputs": [
    {
     "name": "stdout",
     "output_type": "stream",
     "text": [
      "Temperature: 100000 K, B magnitude: -4.70, V magnitude: -4.18, CI: -0.51\n",
      "Temperature: 35000 K, B magnitude: -3.18, V magnitude: -2.75, CI: -0.43\n",
      "Temperature: 9700 K, B magnitude: 0.00, V magnitude: 0.00, CI: 0.00\n",
      "Temperature: 6500 K, B magnitude: 1.85, V magnitude: 1.51, CI: 0.34\n",
      "Temperature: 4700 K, B magnitude: 3.94, V magnitude: 3.20, CI: 0.74\n",
      "Temperature: 2600 K, B magnitude: 9.95, V magnitude: 8.06, CI: 1.89\n"
     ]
    }
   ],
   "source": [
    "# problem 2-2\n",
    "\n",
    "# the zero point magnitude for the B and V filters is at 9700 K\n",
    "B_ref = filter_flux(B, 9700*u.K)\n",
    "V_ref = filter_flux(V, 9700*u.K)\n",
    "\n",
    "for temp in temps:\n",
    "    B_flux = filter_flux(B, temp)\n",
    "    V_flux = filter_flux(V, temp)\n",
    "\n",
    "    B_mag = 2.5 * np.log10(B_ref / B_flux)\n",
    "    V_mag = 2.5 * np.log10(V_ref / V_flux)\n",
    "\n",
    "    CI = B_mag - V_mag\n",
    "\n",
    "    print(f\"Temperature: {temp:.0f}, B magnitude: {B_mag:.2f}, V magnitude: {V_mag:.2f}, CI: {CI:.2f}\")\n"
   ]
  }
 ],
 "metadata": {
  "kernelspec": {
   "display_name": "Python 3 (ipykernel)",
   "language": "python",
   "name": "python3"
  },
  "language_info": {
   "codemirror_mode": {
    "name": "ipython",
    "version": 3
   },
   "file_extension": ".py",
   "mimetype": "text/x-python",
   "name": "python",
   "nbconvert_exporter": "python",
   "pygments_lexer": "ipython3",
   "version": "3.13.3"
  }
 },
 "nbformat": 4,
 "nbformat_minor": 5
}
