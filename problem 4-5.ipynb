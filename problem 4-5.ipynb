{
 "cells": [
  {
   "cell_type": "code",
   "execution_count": 1,
   "id": "08fd5b11",
   "metadata": {},
   "outputs": [],
   "source": [
    "import astropy.units as u\n",
    "import astropy.constants as const\n",
    "import numpy as np"
   ]
  },
  {
   "cell_type": "code",
   "execution_count": 28,
   "id": "e8e51da4",
   "metadata": {},
   "outputs": [
    {
     "name": "stdout",
     "output_type": "stream",
     "text": [
      "1.980965048120278e+44 1 / m6\n"
     ]
    },
    {
     "ename": "UnitTypeError",
     "evalue": "Can only apply 'log' function to dimensionless quantities",
     "output_type": "error",
     "traceback": [
      "\u001b[31m---------------------------------------------------------------------------\u001b[39m",
      "\u001b[31mUnitConversionError\u001b[39m                       Traceback (most recent call last)",
      "\u001b[36mFile \u001b[39m\u001b[32m~/micromamba/envs/jupyter/lib/python3.13/site-packages/astropy/units/quantity_helper/helpers.py:165\u001b[39m, in \u001b[36mhelper_dimensionless_to_dimensionless\u001b[39m\u001b[34m(f, unit)\u001b[39m\n\u001b[32m    164\u001b[39m \u001b[38;5;28;01mtry\u001b[39;00m:\n\u001b[32m--> \u001b[39m\u001b[32m165\u001b[39m     \u001b[38;5;28;01mreturn\u001b[39;00m ([\u001b[43mget_converter\u001b[49m\u001b[43m(\u001b[49m\u001b[43munit\u001b[49m\u001b[43m,\u001b[49m\u001b[43m \u001b[49m\u001b[43mdimensionless_unscaled\u001b[49m\u001b[43m)\u001b[49m], dimensionless_unscaled)\n\u001b[32m    166\u001b[39m \u001b[38;5;28;01mexcept\u001b[39;00m UnitsError:\n",
      "\u001b[36mFile \u001b[39m\u001b[32m~/micromamba/envs/jupyter/lib/python3.13/site-packages/astropy/units/quantity_helper/helpers.py:43\u001b[39m, in \u001b[36mget_converter\u001b[39m\u001b[34m(from_unit, to_unit)\u001b[39m\n\u001b[32m     42\u001b[39m \u001b[38;5;28;01mtry\u001b[39;00m:\n\u001b[32m---> \u001b[39m\u001b[32m43\u001b[39m     converter = \u001b[43mfrom_unit\u001b[49m\u001b[43m.\u001b[49m\u001b[43mget_converter\u001b[49m\u001b[43m(\u001b[49m\u001b[43mto_unit\u001b[49m\u001b[43m)\u001b[49m\n\u001b[32m     44\u001b[39m \u001b[38;5;28;01mexcept\u001b[39;00m \u001b[38;5;167;01mAttributeError\u001b[39;00m \u001b[38;5;28;01mas\u001b[39;00m exc:\n\u001b[32m     45\u001b[39m     \u001b[38;5;66;03m# Check for lack of unit only now, to avoid delay for cases where a unit\u001b[39;00m\n\u001b[32m     46\u001b[39m     \u001b[38;5;66;03m# was present. Note that cases where dimensionless is expected are\u001b[39;00m\n\u001b[32m     47\u001b[39m     \u001b[38;5;66;03m# already short-circuited; here, we cover just the case where, e.g., the\u001b[39;00m\n\u001b[32m     48\u001b[39m     \u001b[38;5;66;03m# user has done u.add_enabled_equivalencies(u.dimensionless_angles()).\u001b[39;00m\n",
      "\u001b[36mFile \u001b[39m\u001b[32m~/micromamba/envs/jupyter/lib/python3.13/site-packages/astropy/units/core.py:1137\u001b[39m, in \u001b[36mUnitBase.get_converter\u001b[39m\u001b[34m(self, other, equivalencies)\u001b[39m\n\u001b[32m   1135\u001b[39m                 \u001b[38;5;28;01mreturn\u001b[39;00m \u001b[38;5;28;01mlambda\u001b[39;00m v: b(converter(v))\n\u001b[32m-> \u001b[39m\u001b[32m1137\u001b[39m \u001b[38;5;28;01mraise\u001b[39;00m exc\n",
      "\u001b[36mFile \u001b[39m\u001b[32m~/micromamba/envs/jupyter/lib/python3.13/site-packages/astropy/units/core.py:1120\u001b[39m, in \u001b[36mUnitBase.get_converter\u001b[39m\u001b[34m(self, other, equivalencies)\u001b[39m\n\u001b[32m   1119\u001b[39m \u001b[38;5;28;01mtry\u001b[39;00m:\n\u001b[32m-> \u001b[39m\u001b[32m1120\u001b[39m     \u001b[38;5;28;01mreturn\u001b[39;00m \u001b[38;5;28;43mself\u001b[39;49m\u001b[43m.\u001b[49m\u001b[43m_apply_equivalencies\u001b[49m\u001b[43m(\u001b[49m\n\u001b[32m   1121\u001b[39m \u001b[43m        \u001b[49m\u001b[38;5;28;43mself\u001b[39;49m\u001b[43m,\u001b[49m\u001b[43m \u001b[49m\u001b[43mother\u001b[49m\u001b[43m,\u001b[49m\u001b[43m \u001b[49m\u001b[38;5;28;43mself\u001b[39;49m\u001b[43m.\u001b[49m\u001b[43m_normalize_equivalencies\u001b[49m\u001b[43m(\u001b[49m\u001b[43mequivalencies\u001b[49m\u001b[43m)\u001b[49m\n\u001b[32m   1122\u001b[39m \u001b[43m    \u001b[49m\u001b[43m)\u001b[49m\n\u001b[32m   1123\u001b[39m \u001b[38;5;28;01mexcept\u001b[39;00m UnitsError \u001b[38;5;28;01mas\u001b[39;00m exc:\n\u001b[32m   1124\u001b[39m     \u001b[38;5;66;03m# Last hope: maybe other knows how to do it?\u001b[39;00m\n\u001b[32m   1125\u001b[39m     \u001b[38;5;66;03m# We assume the equivalencies have the unit itself as first item.\u001b[39;00m\n\u001b[32m   1126\u001b[39m     \u001b[38;5;66;03m# TODO: maybe better for other to have a `_back_converter` method?\u001b[39;00m\n",
      "\u001b[36mFile \u001b[39m\u001b[32m~/micromamba/envs/jupyter/lib/python3.13/site-packages/astropy/units/core.py:1071\u001b[39m, in \u001b[36mUnitBase._apply_equivalencies\u001b[39m\u001b[34m(self, unit, other, equivalencies)\u001b[39m\n\u001b[32m   1069\u001b[39m other_str = get_err_str(other)\n\u001b[32m-> \u001b[39m\u001b[32m1071\u001b[39m \u001b[38;5;28;01mraise\u001b[39;00m UnitConversionError(\u001b[33mf\u001b[39m\u001b[33m\"\u001b[39m\u001b[38;5;132;01m{\u001b[39;00munit_str\u001b[38;5;132;01m}\u001b[39;00m\u001b[33m and \u001b[39m\u001b[38;5;132;01m{\u001b[39;00mother_str\u001b[38;5;132;01m}\u001b[39;00m\u001b[33m are not convertible\u001b[39m\u001b[33m\"\u001b[39m)\n",
      "\u001b[31mUnitConversionError\u001b[39m: 'kg4 cm3 / (g J3 m3 s6)' and '' (dimensionless) are not convertible",
      "\nDuring handling of the above exception, another exception occurred:\n",
      "\u001b[31mUnitTypeError\u001b[39m                             Traceback (most recent call last)",
      "\u001b[36mCell\u001b[39m\u001b[36m \u001b[39m\u001b[32mIn[28]\u001b[39m\u001b[32m, line 17\u001b[39m\n\u001b[32m     14\u001b[39m log_inner = \u001b[32m2\u001b[39m*m_H/(rho_0*V_0)*(\u001b[32m2\u001b[39m*np.pi*const.m_e*const.k_B*T_0/const.h**\u001b[32m2\u001b[39m)**\u001b[32m3\u001b[39m/\u001b[32m2\u001b[39m\n\u001b[32m     16\u001b[39m \u001b[38;5;28mprint\u001b[39m(log_inner.decompose())\n\u001b[32m---> \u001b[39m\u001b[32m17\u001b[39m V = (\u001b[43mnp\u001b[49m\u001b[43m.\u001b[49m\u001b[43mlog\u001b[49m\u001b[43m(\u001b[49m\u001b[43mlog_inner\u001b[49m\u001b[43m)\u001b[49m * const.k_B*T_0/xi_I)**(\u001b[32m3\u001b[39m/\u001b[32m2\u001b[39m)\n\u001b[32m     18\u001b[39m V = V.decompose()\n\u001b[32m     20\u001b[39m \u001b[38;5;66;03m# the volume change at which the ionization fraction of the gas is 50%\u001b[39;00m\n",
      "\u001b[36mFile \u001b[39m\u001b[32m~/micromamba/envs/jupyter/lib/python3.13/site-packages/astropy/units/quantity.py:684\u001b[39m, in \u001b[36mQuantity.__array_ufunc__\u001b[39m\u001b[34m(self, function, method, *inputs, **kwargs)\u001b[39m\n\u001b[32m    682\u001b[39m     \u001b[38;5;28;01mreturn\u001b[39;00m \u001b[38;5;28mNotImplemented\u001b[39m\n\u001b[32m    683\u001b[39m \u001b[38;5;28;01melse\u001b[39;00m:\n\u001b[32m--> \u001b[39m\u001b[32m684\u001b[39m     \u001b[38;5;28;01mraise\u001b[39;00m e\n",
      "\u001b[36mFile \u001b[39m\u001b[32m~/micromamba/envs/jupyter/lib/python3.13/site-packages/astropy/units/quantity.py:629\u001b[39m, in \u001b[36mQuantity.__array_ufunc__\u001b[39m\u001b[34m(self, function, method, *inputs, **kwargs)\u001b[39m\n\u001b[32m    624\u001b[39m \u001b[38;5;66;03m# Determine required conversion functions -- to bring the unit of the\u001b[39;00m\n\u001b[32m    625\u001b[39m \u001b[38;5;66;03m# input to that expected (e.g., radian for np.sin), or to get\u001b[39;00m\n\u001b[32m    626\u001b[39m \u001b[38;5;66;03m# consistent units between two inputs (e.g., in np.add) --\u001b[39;00m\n\u001b[32m    627\u001b[39m \u001b[38;5;66;03m# and the unit of the result (or tuple of units for nout > 1).\u001b[39;00m\n\u001b[32m    628\u001b[39m \u001b[38;5;28;01mtry\u001b[39;00m:\n\u001b[32m--> \u001b[39m\u001b[32m629\u001b[39m     converters, unit = \u001b[43mconverters_and_unit\u001b[49m\u001b[43m(\u001b[49m\u001b[43mfunction\u001b[49m\u001b[43m,\u001b[49m\u001b[43m \u001b[49m\u001b[43mmethod\u001b[49m\u001b[43m,\u001b[49m\u001b[43m \u001b[49m\u001b[43m*\u001b[49m\u001b[43minputs\u001b[49m\u001b[43m)\u001b[49m\n\u001b[32m    631\u001b[39m     out = kwargs.get(\u001b[33m\"\u001b[39m\u001b[33mout\u001b[39m\u001b[33m\"\u001b[39m)\n\u001b[32m    632\u001b[39m     \u001b[38;5;66;03m# Avoid loop back by turning any Quantity output into array views.\u001b[39;00m\n",
      "\u001b[36mFile \u001b[39m\u001b[32m~/micromamba/envs/jupyter/lib/python3.13/site-packages/astropy/units/quantity_helper/converters.py:177\u001b[39m, in \u001b[36mconverters_and_unit\u001b[39m\u001b[34m(function, method, *args)\u001b[39m\n\u001b[32m    174\u001b[39m units = [\u001b[38;5;28mgetattr\u001b[39m(arg, \u001b[33m\"\u001b[39m\u001b[33munit\u001b[39m\u001b[33m\"\u001b[39m, \u001b[38;5;28;01mNone\u001b[39;00m) \u001b[38;5;28;01mfor\u001b[39;00m arg \u001b[38;5;129;01min\u001b[39;00m args]\n\u001b[32m    176\u001b[39m \u001b[38;5;66;03m# Determine possible conversion functions, and the result unit.\u001b[39;00m\n\u001b[32m--> \u001b[39m\u001b[32m177\u001b[39m converters, result_unit = \u001b[43mufunc_helper\u001b[49m\u001b[43m(\u001b[49m\u001b[43mfunction\u001b[49m\u001b[43m,\u001b[49m\u001b[43m \u001b[49m\u001b[43m*\u001b[49m\u001b[43munits\u001b[49m\u001b[43m)\u001b[49m\n\u001b[32m    179\u001b[39m \u001b[38;5;28;01mif\u001b[39;00m \u001b[38;5;28many\u001b[39m(converter \u001b[38;5;129;01mis\u001b[39;00m \u001b[38;5;28;01mFalse\u001b[39;00m \u001b[38;5;28;01mfor\u001b[39;00m converter \u001b[38;5;129;01min\u001b[39;00m converters):\n\u001b[32m    180\u001b[39m     \u001b[38;5;66;03m# for multi-argument ufuncs with a quantity and a non-quantity,\u001b[39;00m\n\u001b[32m    181\u001b[39m     \u001b[38;5;66;03m# the quantity normally needs to be dimensionless, *except*\u001b[39;00m\n\u001b[32m   (...)\u001b[39m\u001b[32m    184\u001b[39m     \u001b[38;5;66;03m# can just have the unit of the quantity\u001b[39;00m\n\u001b[32m    185\u001b[39m     \u001b[38;5;66;03m# (this allows, e.g., `q > 0.` independent of unit)\u001b[39;00m\n\u001b[32m    186\u001b[39m     \u001b[38;5;28;01mtry\u001b[39;00m:\n\u001b[32m    187\u001b[39m         \u001b[38;5;66;03m# Don't fold this loop in the test above: this rare case\u001b[39;00m\n\u001b[32m    188\u001b[39m         \u001b[38;5;66;03m# should not make the common case slower.\u001b[39;00m\n",
      "\u001b[36mFile \u001b[39m\u001b[32m~/micromamba/envs/jupyter/lib/python3.13/site-packages/astropy/units/quantity_helper/helpers.py:167\u001b[39m, in \u001b[36mhelper_dimensionless_to_dimensionless\u001b[39m\u001b[34m(f, unit)\u001b[39m\n\u001b[32m    165\u001b[39m     \u001b[38;5;28;01mreturn\u001b[39;00m ([get_converter(unit, dimensionless_unscaled)], dimensionless_unscaled)\n\u001b[32m    166\u001b[39m \u001b[38;5;28;01mexcept\u001b[39;00m UnitsError:\n\u001b[32m--> \u001b[39m\u001b[32m167\u001b[39m     \u001b[38;5;28;01mraise\u001b[39;00m UnitTypeError(\n\u001b[32m    168\u001b[39m         \u001b[33mf\u001b[39m\u001b[33m\"\u001b[39m\u001b[33mCan only apply \u001b[39m\u001b[33m'\u001b[39m\u001b[38;5;132;01m{\u001b[39;00mf.\u001b[34m__name__\u001b[39m\u001b[38;5;132;01m}\u001b[39;00m\u001b[33m'\u001b[39m\u001b[33m function to dimensionless quantities\u001b[39m\u001b[33m\"\u001b[39m\n\u001b[32m    169\u001b[39m     )\n",
      "\u001b[31mUnitTypeError\u001b[39m: Can only apply 'log' function to dimensionless quantities"
     ]
    }
   ],
   "source": [
    "\n",
    "# given\n",
    "\n",
    "# initial density, temperature\n",
    "rho_0 = 10e-31 * u.g * u.cm**-3\n",
    "T_0 = 2.728 * u.K\n",
    "\n",
    "# constants\n",
    "xi_I = 13.6 * u.eV\n",
    "M_H = 1.0078 * u.g/u.mol\n",
    "m_H = (M_H / const.N_A).decompose()\n",
    "V_0 = 1 * u.m**3\n",
    "\n",
    "# applying Saha's equation\n",
    "log_inner = 2*m_H/(rho_0*V_0)*(2*np.pi*const.m_e*const.k_B*T_0/const.h**2)**3/2\n",
    "\n",
    "print(log_inner.decompose())\n",
    "V = (np.log(log_inner) * const.k_B*T_0/xi_I)**(3/2)\n",
    "V = V.decompose()\n",
    "\n",
    "# the volume change at which the ionization fraction of the gas is 50%\n",
    "print(f\"For a unit volume of H gas with initial density {rho_0}, temperature {T_0}\")\n",
    "print(f\"Under adibiatic compression, the ionization fraction of the gas will reach 50%\")\n",
    "print(f\"when the volume contracts to {V}\")\n",
    "\n",
    "length = V**(1/3)\n",
    "print(f\"If length contracts evenly along all axis, the linear contraction is {length}\")\n",
    "\n",
    "\n",
    "print (\"P_0\", rho_0/m_H*const.R*T_0)\n",
    "print (\"T_f\", T_0/V**(2/3))\n"
   ]
  }
 ],
 "metadata": {
  "kernelspec": {
   "display_name": "jupyter",
   "language": "python",
   "name": "python3"
  },
  "language_info": {
   "codemirror_mode": {
    "name": "ipython",
    "version": 3
   },
   "file_extension": ".py",
   "mimetype": "text/x-python",
   "name": "python",
   "nbconvert_exporter": "python",
   "pygments_lexer": "ipython3",
   "version": "3.13.5"
  }
 },
 "nbformat": 4,
 "nbformat_minor": 5
}
