{
 "cells": [
  {
   "cell_type": "code",
   "execution_count": 23,
   "id": "67a7731d",
   "metadata": {},
   "outputs": [
    {
     "data": {
      "text/latex": [
       "$2020.7484 \\; \\mathrm{Mpc}$"
      ],
      "text/plain": [
       "<Quantity 2020.74839287 Mpc>"
      ]
     },
     "execution_count": 23,
     "metadata": {},
     "output_type": "execute_result"
    }
   ],
   "source": [
    "import astropy.constants as const\n",
    "import astropy.units as u\n",
    "\n",
    "lp=2*const.c/(3*67*u.s**-1*u.Mpc**-1*u.km)*(1-1/1.55**1/2)\n",
    "lp.to(u.Mpc)\n"
   ]
  }
 ],
 "metadata": {
  "kernelspec": {
   "display_name": "Python 3 (ipykernel)",
   "language": "python",
   "name": "python3"
  },
  "language_info": {
   "codemirror_mode": {
    "name": "ipython",
    "version": 3
   },
   "file_extension": ".py",
   "mimetype": "text/x-python",
   "name": "python",
   "nbconvert_exporter": "python",
   "pygments_lexer": "ipython3",
   "version": "3.13.5"
  }
 },
 "nbformat": 4,
 "nbformat_minor": 5
}
