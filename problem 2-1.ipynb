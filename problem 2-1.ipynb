{
 "cells": [
  {
   "cell_type": "markdown",
   "id": "f74ae8c7",
   "metadata": {},
   "source": [
    "# Problem 2-1\n",
    "\n",
    "calculate fraction of total flux from a number of blackbodies which falls within idealized Johnson filter passbands"
   ]
  },
  {
   "cell_type": "code",
   "execution_count": null,
   "id": "4efcc1b6",
   "metadata": {},
   "outputs": [
    {
     "name": "stdout",
     "output_type": "stream",
     "text": [
      "Temperature: 100000 K, Bolometric Flux: 5.67e+12 W / m2\n",
      "Spectral radiance at 5050 Angstrom: 1.10e+16 W / m3\n",
      "  Filter [3900. 4900.] Angstrom: 6.11e+09 W / m2, percent: 0.11%\n",
      "  Filter [5050. 5950.] Angstrom: 2.29e+09 W / m2, percent: 0.04%\n",
      "Temperature: 35000 K, Bolometric Flux: 8.51e+10 W / m2\n",
      "Spectral radiance at 5050 Angstrom: 2.89e+15 W / m3\n",
      "  Filter [3900. 4900.] Angstrom: 1.52e+09 W / m2, percent: 1.78%\n",
      "  Filter [5050. 5950.] Angstrom: 6.13e+08 W / m2, percent: 0.72%\n",
      "Temperature: 9700 K, Bolometric Flux: 5.02e+08 W / m2\n",
      "Spectral radiance at 5050 Angstrom: 2.03e+14 W / m3\n",
      "  Filter [3900. 4900.] Angstrom: 8.08e+07 W / m2, percent: 16.10%\n",
      "  Filter [5050. 5950.] Angstrom: 4.86e+07 W / m2, percent: 9.68%\n",
      "Temperature: 6500 K, Bolometric Flux: 1.01e+08 W / m2\n",
      "Spectral radiance at 5050 Angstrom: 4.58e+13 W / m3\n",
      "  Filter [3900. 4900.] Angstrom: 1.48e+07 W / m2, percent: 14.59%\n",
      "  Filter [5050. 5950.] Angstrom: 1.21e+07 W / m2, percent: 12.00%\n",
      "Temperature: 4700 K, Bolometric Flux: 2.77e+07 W / m2\n",
      "Spectral radiance at 5050 Angstrom: 8.47e+12 W / m3\n",
      "  Filter [3900. 4900.] Angstrom: 2.14e+06 W / m2, percent: 7.73%\n",
      "  Filter [5050. 5950.] Angstrom: 2.55e+06 W / m2, percent: 9.23%\n",
      "Temperature: 2600 K, Bolometric Flux: 2.59e+06 W / m2\n",
      "Spectral radiance at 5050 Angstrom: 6.32e+10 W / m3\n",
      "  Filter [3900. 4900.] Angstrom: 8.45e+03 W / m2, percent: 0.33%\n",
      "  Filter [5050. 5950.] Angstrom: 2.89e+04 W / m2, percent: 1.12%\n"
     ]
    }
   ],
   "source": [
    "import astropy\n",
    "import numpy as np\n",
    "import astropy.units as u\n",
    "import astropy.constants as const\n",
    "from functools import partial\n",
    "\n",
    "temps = [10**5, 35000, 9700, 6500, 4700, 2600]*u.K\n",
    "\n",
    "B = (3900,4900)*u.Angstrom\n",
    "V = (5050, 5950)*u.Angstrom\n",
    "\n",
    "filters = [B,V]\n",
    "\n",
    "# stefan-Boltzmann formula for blackbody radiation\n",
    "def stefan_boltzmann_formula(T):\n",
    "    return const.sigma_sb * T**4\n",
    "\n",
    "# planks law for blackbody radiation\n",
    "def planks_law(T, lam):\n",
    "    return 2*const.h * const.c**2 / (lam**5 * (np.exp(const.h * const.c / (lam * const.k_B * T)) - 1))\n",
    "\n",
    "# integrate a function numerically, using Simpson's rule\n",
    "def simpsons_rule(f, a, b):\n",
    "    return (b - a) / 6 * (f(a) + 4 * f((a + b) / 2) + f(b))\n",
    "\n",
    "for temp in temps:\n",
    "    flux_bol = stefan_boltzmann_formula(temp)\n",
    "\n",
    "    print(f\"Temperature: {temp:.0f}, Bolometric Flux: {flux_bol:.2e}\")\n",
    "\n",
    "    spectral_radiance_5050=planks_law(temp, 5050*u.Angstrom).to(u.W/u.m**2/u.m)#u.Angstrom)\n",
    "    print(f\"Spectral radiance at 5050 Angstrom: {spectral_radiance_5050:.2e}\")\n",
    "    \n",
    "    for filter in filters:\n",
    "        # this form of Planck's law returns units of radiance\n",
    "        # these must be integrated over all solid angles to get surface flux\n",
    "        \n",
    "        radiance = simpsons_rule(partial(planks_law, temp), filter[0], filter[1]).to(u.W/u.m**2)\n",
    "        flux = radiance * np.pi\n",
    "        percent = flux / flux_bol *100\n",
    "        print(f\"  Filter {filter}: {flux:.2e}, percent: {percent:.2f}%\")\n",
    "\n"
   ]
  }
 ],
 "metadata": {
  "kernelspec": {
   "display_name": "Python 3 (ipykernel)",
   "language": "python",
   "name": "python3"
  },
  "language_info": {
   "codemirror_mode": {
    "name": "ipython",
    "version": 3
   },
   "file_extension": ".py",
   "mimetype": "text/x-python",
   "name": "python",
   "nbconvert_exporter": "python",
   "pygments_lexer": "ipython3",
   "version": "3.13.3"
  }
 },
 "nbformat": 4,
 "nbformat_minor": 5
}
