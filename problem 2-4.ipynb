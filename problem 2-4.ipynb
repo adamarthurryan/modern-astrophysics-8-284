{
 "cells": [
  {
   "cell_type": "markdown",
   "id": "fa36e6b2",
   "metadata": {},
   "source": [
    "# Problem 2-4\n",
    "\n",
    "Length of longest and shortest days"
   ]
  },
  {
   "cell_type": "code",
   "execution_count": 22,
   "id": "bcb59fc3",
   "metadata": {},
   "outputs": [
    {
     "name": "stdout",
     "output_type": "stream",
     "text": [
      "latitude: 45.583 deg\n",
      "hours of daylight, shortest day: 8h32m51.83269243s\n",
      "hours of daylight, longest day: 15h27m08.16730757s\n"
     ]
    }
   ],
   "source": [
    "import numpy as np\n",
    "from astropy import units as u\n",
    "from astropy.coordinates import Angle\n",
    "\n",
    "# isle madame, nova scotia\n",
    "l = Angle(45.583*u.deg)\n",
    "ob = Angle(23.5*u.deg)\n",
    "a90 = Angle(90*u.deg)\n",
    "\n",
    "alt_l = a90+ob-l\n",
    "alt_s = a90-ob-l\n",
    "\n",
    "az_l = np.arccos(np.cos(a90-ob)/np.cos(l))\n",
    "az_s = np.arccos(np.cos(a90+ob)/np.cos(l))\n",
    " \n",
    "# ha_l = Angle(np.arccos(np.cos(alt_l)*np.cos(Angle(180*u.deg)-az_l)))\n",
    "# ha_s = Angle(np.arccos(np.cos(alt_s)*np.cos(Angle(180*u.deg)-az_s)))\n",
    "\n",
    "ha_l_x = (-np.cos(az_l) +np.sin(ob)*np.sin(l))/(np.cos(ob)*np.sin(l))\n",
    "ha_l_y = (-np.sin(az_l))/(np.cos(ob))\n",
    "ha_l = Angle(np.arctan2(ha_l_y, ha_l_x))\n",
    "ha_s_x = (-np.cos(az_s) -np.sin(ob)*np.sin(l))/(np.cos(ob)*np.sin(l))\n",
    "ha_s_y = (-np.sin(az_s))/(np.cos(ob))\n",
    "ha_s = Angle(np.arctan2(ha_s_y, ha_s_x))\n",
    "\n",
    "hours_s = np.abs(ha_s*2)\n",
    "hours_l = np.abs(ha_l*2)\n",
    "print(f\"latitude: {l.to(u.deg)}\")\n",
    "print(f\"hours of daylight, shortest day: {hours_s.to_string(u.hourangle, decimal=False)}\")\n",
    "print(f\"hours of daylight, longest day: {hours_l.to_string(u.hourangle, decimal=False)}\")\n",
    "\n",
    "\n",
    "# print(f\"altitude of the sun at noon, shortest day: {alt_s.to(u.deg)}\")\n",
    "# print(f\"azimuth of the sun at sunrise, shortest day: {az_s.to(u.deg)}\")\n",
    "# print(f\"hour angle of the sun at sunrise, shortest day: {ha_s.to_string(u.hourangle, decimal=False)}\")\n",
    "# print(f\"altitude of the sun at noon, longest day: {alt_l.to(u.deg)}\")\n",
    "# print(f\"azimuth of the sun at sunrise, longest day: {az_l.to(u.deg)}\")\n",
    "# print(f\"hour angle of the sun at sunrise, longest day: {ha_l.to_string(u.hourangle, decimal=False)}\")\n"
   ]
  }
 ],
 "metadata": {
  "kernelspec": {
   "display_name": "Python 3 (ipykernel)",
   "language": "python",
   "name": "python3"
  }
 },
 "nbformat": 4,
 "nbformat_minor": 5
}
